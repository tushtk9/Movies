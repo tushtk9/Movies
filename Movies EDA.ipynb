{
 "cells": [
  {
   "cell_type": "markdown",
   "id": "971778b7",
   "metadata": {},
   "source": [
    "# Movies Data Analysis"
   ]
  },
  {
   "cell_type": "code",
   "execution_count": 1,
   "id": "1760cc42",
   "metadata": {},
   "outputs": [],
   "source": [
    "#importing important libraries\n",
    "import pandas as pd"
   ]
  },
  {
   "cell_type": "code",
   "execution_count": 2,
   "id": "2241f43f",
   "metadata": {},
   "outputs": [],
   "source": [
    "#loading datas\n",
    "movie = pd.read_csv('C:/Users/tusht/Desktop/Prwatech/Project/movie.csv')"
   ]
  },
  {
   "cell_type": "markdown",
   "id": "57d6d78e",
   "metadata": {},
   "source": [
    "# Understanding and Wrangling Data"
   ]
  },
  {
   "cell_type": "code",
   "execution_count": 3,
   "id": "6d1a16e7",
   "metadata": {},
   "outputs": [],
   "source": [
    "#making copy of csv file \n",
    "movies = movie.copy()"
   ]
  },
  {
   "cell_type": "code",
   "execution_count": 4,
   "id": "de53807d",
   "metadata": {
    "scrolled": true
   },
   "outputs": [
    {
     "data": {
      "text/html": [
       "<div>\n",
       "<style scoped>\n",
       "    .dataframe tbody tr th:only-of-type {\n",
       "        vertical-align: middle;\n",
       "    }\n",
       "\n",
       "    .dataframe tbody tr th {\n",
       "        vertical-align: top;\n",
       "    }\n",
       "\n",
       "    .dataframe thead th {\n",
       "        text-align: right;\n",
       "    }\n",
       "</style>\n",
       "<table border=\"1\" class=\"dataframe\">\n",
       "  <thead>\n",
       "    <tr style=\"text-align: right;\">\n",
       "      <th></th>\n",
       "      <th>1</th>\n",
       "      <th>The Nightmare Before Christmas</th>\n",
       "      <th>1993</th>\n",
       "      <th>3.9</th>\n",
       "      <th>4568</th>\n",
       "    </tr>\n",
       "  </thead>\n",
       "  <tbody>\n",
       "    <tr>\n",
       "      <th>0</th>\n",
       "      <td>2</td>\n",
       "      <td>The Mummy</td>\n",
       "      <td>1932</td>\n",
       "      <td>3.5</td>\n",
       "      <td>4388.0</td>\n",
       "    </tr>\n",
       "    <tr>\n",
       "      <th>1</th>\n",
       "      <td>3</td>\n",
       "      <td>Orphans of the Storm</td>\n",
       "      <td>1921</td>\n",
       "      <td>3.2</td>\n",
       "      <td>9062.0</td>\n",
       "    </tr>\n",
       "    <tr>\n",
       "      <th>2</th>\n",
       "      <td>4</td>\n",
       "      <td>The Object of Beauty</td>\n",
       "      <td>1991</td>\n",
       "      <td>2.8</td>\n",
       "      <td>6150.0</td>\n",
       "    </tr>\n",
       "    <tr>\n",
       "      <th>3</th>\n",
       "      <td>5</td>\n",
       "      <td>Night Tide</td>\n",
       "      <td>1963</td>\n",
       "      <td>2.8</td>\n",
       "      <td>5126.0</td>\n",
       "    </tr>\n",
       "    <tr>\n",
       "      <th>4</th>\n",
       "      <td>6</td>\n",
       "      <td>One Magic Christmas</td>\n",
       "      <td>1985</td>\n",
       "      <td>3.8</td>\n",
       "      <td>5333.0</td>\n",
       "    </tr>\n",
       "  </tbody>\n",
       "</table>\n",
       "</div>"
      ],
      "text/plain": [
       "   1 The Nightmare Before Christmas  1993  3.9    4568\n",
       "0  2                      The Mummy  1932  3.5  4388.0\n",
       "1  3           Orphans of the Storm  1921  3.2  9062.0\n",
       "2  4           The Object of Beauty  1991  2.8  6150.0\n",
       "3  5                     Night Tide  1963  2.8  5126.0\n",
       "4  6            One Magic Christmas  1985  3.8  5333.0"
      ]
     },
     "execution_count": 4,
     "metadata": {},
     "output_type": "execute_result"
    }
   ],
   "source": [
    "movies.head(5)"
   ]
  },
  {
   "cell_type": "markdown",
   "id": "1582e3a3",
   "metadata": {},
   "source": [
    "As we can see from above we have to add column names for simplification"
   ]
  },
  {
   "cell_type": "code",
   "execution_count": 5,
   "id": "ddbf5cc5",
   "metadata": {},
   "outputs": [
    {
     "name": "stdout",
     "output_type": "stream",
     "text": [
      "   sr_no                 movie  year  rating  duration\n",
      "0      2             The Mummy  1932     3.5    4388.0\n",
      "1      3  Orphans of the Storm  1921     3.2    9062.0\n",
      "2      4  The Object of Beauty  1991     2.8    6150.0\n",
      "3      5            Night Tide  1963     2.8    5126.0\n",
      "4      6   One Magic Christmas  1985     3.8    5333.0\n"
     ]
    }
   ],
   "source": [
    "#Assigning colum names\n",
    "\n",
    "movies.columns = [\"sr_no\", \"movie\", \"year\",'rating','duration']\n",
    "row = [1,'The Nightmare Before Christmas',1993,3.9,4568]\n",
    "movies.loc[-1]= row\n",
    "\n",
    "movies.sort_values(['sr_no'])\n",
    "\n",
    "print(movies.head())\n",
    "#print(movies.tail(5))"
   ]
  },
  {
   "cell_type": "code",
   "execution_count": 6,
   "id": "95af7ff1",
   "metadata": {},
   "outputs": [
    {
     "data": {
      "text/html": [
       "<div>\n",
       "<style scoped>\n",
       "    .dataframe tbody tr th:only-of-type {\n",
       "        vertical-align: middle;\n",
       "    }\n",
       "\n",
       "    .dataframe tbody tr th {\n",
       "        vertical-align: top;\n",
       "    }\n",
       "\n",
       "    .dataframe thead th {\n",
       "        text-align: right;\n",
       "    }\n",
       "</style>\n",
       "<table border=\"1\" class=\"dataframe\">\n",
       "  <thead>\n",
       "    <tr style=\"text-align: right;\">\n",
       "      <th></th>\n",
       "      <th>sr_no</th>\n",
       "      <th>year</th>\n",
       "      <th>rating</th>\n",
       "      <th>duration</th>\n",
       "    </tr>\n",
       "  </thead>\n",
       "  <tbody>\n",
       "    <tr>\n",
       "      <th>count</th>\n",
       "      <td>49590.000000</td>\n",
       "      <td>49590.000000</td>\n",
       "      <td>10814.000000</td>\n",
       "      <td>45836.000000</td>\n",
       "    </tr>\n",
       "    <tr>\n",
       "      <th>mean</th>\n",
       "      <td>24795.500000</td>\n",
       "      <td>2002.303428</td>\n",
       "      <td>3.451248</td>\n",
       "      <td>2628.445436</td>\n",
       "    </tr>\n",
       "    <tr>\n",
       "      <th>std</th>\n",
       "      <td>14315.544261</td>\n",
       "      <td>12.534555</td>\n",
       "      <td>0.495601</td>\n",
       "      <td>1604.646265</td>\n",
       "    </tr>\n",
       "    <tr>\n",
       "      <th>min</th>\n",
       "      <td>1.000000</td>\n",
       "      <td>1913.000000</td>\n",
       "      <td>1.400000</td>\n",
       "      <td>52.000000</td>\n",
       "    </tr>\n",
       "    <tr>\n",
       "      <th>25%</th>\n",
       "      <td>12398.250000</td>\n",
       "      <td>1999.000000</td>\n",
       "      <td>3.100000</td>\n",
       "      <td>1356.000000</td>\n",
       "    </tr>\n",
       "    <tr>\n",
       "      <th>50%</th>\n",
       "      <td>24795.500000</td>\n",
       "      <td>2007.000000</td>\n",
       "      <td>3.500000</td>\n",
       "      <td>2563.000000</td>\n",
       "    </tr>\n",
       "    <tr>\n",
       "      <th>75%</th>\n",
       "      <td>37192.750000</td>\n",
       "      <td>2010.000000</td>\n",
       "      <td>3.800000</td>\n",
       "      <td>2877.000000</td>\n",
       "    </tr>\n",
       "    <tr>\n",
       "      <th>max</th>\n",
       "      <td>49590.000000</td>\n",
       "      <td>2014.000000</td>\n",
       "      <td>4.500000</td>\n",
       "      <td>28813.000000</td>\n",
       "    </tr>\n",
       "  </tbody>\n",
       "</table>\n",
       "</div>"
      ],
      "text/plain": [
       "              sr_no          year        rating      duration\n",
       "count  49590.000000  49590.000000  10814.000000  45836.000000\n",
       "mean   24795.500000   2002.303428      3.451248   2628.445436\n",
       "std    14315.544261     12.534555      0.495601   1604.646265\n",
       "min        1.000000   1913.000000      1.400000     52.000000\n",
       "25%    12398.250000   1999.000000      3.100000   1356.000000\n",
       "50%    24795.500000   2007.000000      3.500000   2563.000000\n",
       "75%    37192.750000   2010.000000      3.800000   2877.000000\n",
       "max    49590.000000   2014.000000      4.500000  28813.000000"
      ]
     },
     "execution_count": 6,
     "metadata": {},
     "output_type": "execute_result"
    }
   ],
   "source": [
    "movies.describe()"
   ]
  },
  {
   "cell_type": "markdown",
   "id": "6f4b1feb",
   "metadata": {},
   "source": [
    "Now we have clean datasheet."
   ]
  },
  {
   "cell_type": "markdown",
   "id": "09994c91",
   "metadata": {},
   "source": [
    "# 1. The number of movies released between 1950 and 1960."
   ]
  },
  {
   "cell_type": "code",
   "execution_count": 7,
   "id": "6d51c14f",
   "metadata": {},
   "outputs": [
    {
     "name": "stdout",
     "output_type": "stream",
     "text": [
      "Number of movies released between 1950 and 1960 =  414\n"
     ]
    }
   ],
   "source": [
    "a = list()\n",
    "for i in movies['year']:\n",
    "    if (i<1960) and (i>1950):\n",
    "        a.append(i)\n",
    "    \n",
    "print(\"Number of movies released between 1950 and 1960 = \",len(a))"
   ]
  },
  {
   "cell_type": "markdown",
   "id": "baae03ae",
   "metadata": {},
   "source": [
    "# 2. The number of movies having rating more than 4."
   ]
  },
  {
   "cell_type": "code",
   "execution_count": 8,
   "id": "32fcfefd",
   "metadata": {},
   "outputs": [
    {
     "name": "stdout",
     "output_type": "stream",
     "text": [
      "There are total 1477 Number of movies with rating more than 4\n"
     ]
    }
   ],
   "source": [
    "a = len(movies[movies['rating']>=(4)])\n",
    "print(\"There are total \"+str(a)+\" Number of movies with rating more than 4\")"
   ]
  },
  {
   "cell_type": "markdown",
   "id": "70298775",
   "metadata": {},
   "source": [
    "# 3.The movies whose rating are between 3 and 4."
   ]
  },
  {
   "cell_type": "code",
   "execution_count": 9,
   "id": "6e809085",
   "metadata": {},
   "outputs": [
    {
     "name": "stdout",
     "output_type": "stream",
     "text": [
      "Total number of movies having rating between 3 & 4 (including 3 & 4) =  8222\n"
     ]
    }
   ],
   "source": [
    "a = list()\n",
    "for i in movies['rating']:\n",
    "    if (i>=3) and (i<=4):\n",
    "        a.append(i)\n",
    "        \n",
    "print(\"Total number of movies having rating between 3 & 4 (including 3 & 4) = \", len(a))"
   ]
  },
  {
   "cell_type": "markdown",
   "id": "04ed8eb1",
   "metadata": {},
   "source": [
    "# 4. The number of movies with duration more than 2 hours(7200second)."
   ]
  },
  {
   "cell_type": "code",
   "execution_count": 10,
   "id": "4073ae35",
   "metadata": {},
   "outputs": [
    {
     "name": "stdout",
     "output_type": "stream",
     "text": [
      "There are total 45814 Number of movies with duration more than 2 hours\n"
     ]
    }
   ],
   "source": [
    "a = len(movies[movies['duration']>=(2*60)])\n",
    "print(\"There are total \"+str(a)+\" Number of movies with duration more than 2 hours\")"
   ]
  },
  {
   "cell_type": "markdown",
   "id": "df9793a6",
   "metadata": {},
   "source": [
    "# 5.The list of years and number of movies released each year."
   ]
  },
  {
   "cell_type": "code",
   "execution_count": 12,
   "id": "afa08c82",
   "metadata": {},
   "outputs": [
    {
     "name": "stdout",
     "output_type": "stream",
     "text": [
      "        year                                              movie\n",
      " 0      1932                                          The Mummy\n",
      " 1      1921                               Orphans of the Storm\n",
      " 2      1991                               The Object of Beauty\n",
      " 3      1963                                         Night Tide\n",
      " 4      1985                                One Magic Christmas\n",
      "...      ...                                                ...\n",
      " 49585  2013                Top Gear: Series 19: Africa Special\n",
      " 49586  2010  Fireplace For Your Home: Crackling Fireplace w...\n",
      " 49587  2010                                    Kate Plus Ei8ht\n",
      " 49588  2010                          Kate Plus Ei8ht: Season 1\n",
      "-1      1993                     The Nightmare Before Christmas\n",
      "\n",
      "[49590 rows x 2 columns]\n"
     ]
    }
   ],
   "source": [
    "m2 = movies[['year','movie']]\n",
    "print(m2)"
   ]
  },
  {
   "cell_type": "markdown",
   "id": "b9600b99",
   "metadata": {},
   "source": [
    "# 6.Total number of movies in dataset."
   ]
  },
  {
   "cell_type": "code",
   "execution_count": null,
   "id": "3ce2c2c6",
   "metadata": {},
   "outputs": [],
   "source": [
    "print('Total Number of Movies = ',movies.shape[0])"
   ]
  },
  {
   "cell_type": "markdown",
   "id": "0fd08d68",
   "metadata": {},
   "source": [
    "# Thank You!"
   ]
  }
 ],
 "metadata": {
  "kernelspec": {
   "display_name": "Python 3 (ipykernel)",
   "language": "python",
   "name": "python3"
  },
  "language_info": {
   "codemirror_mode": {
    "name": "ipython",
    "version": 3
   },
   "file_extension": ".py",
   "mimetype": "text/x-python",
   "name": "python",
   "nbconvert_exporter": "python",
   "pygments_lexer": "ipython3",
   "version": "3.9.7"
  }
 },
 "nbformat": 4,
 "nbformat_minor": 5
}
